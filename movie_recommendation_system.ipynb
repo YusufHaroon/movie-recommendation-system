{
 "cells": [
  {
   "cell_type": "markdown",
   "id": "dcb194b0",
   "metadata": {},
   "source": [
    "## Movie Recommender System\n",
    "This movie recommender system is a content-based recommendation system and will take advantage of two datasets of TMDb that were present on Kaggle."
   ]
  },
  {
   "cell_type": "markdown",
   "id": "7d8b116f",
   "metadata": {},
   "source": [
    "### Importing Libraries\n"
   ]
  },
  {
   "cell_type": "code",
   "execution_count": null,
   "id": "3a819fa5",
   "metadata": {},
   "outputs": [],
   "source": [
    "import numpy as np\n",
    "import pandas as pd"
   ]
  },
  {
   "cell_type": "markdown",
   "id": "886bc5f3",
   "metadata": {},
   "source": [
    "### Creating a dataset for Movies and Credits\n"
   ]
  },
  {
   "cell_type": "code",
   "execution_count": null,
   "id": "b1af5b92",
   "metadata": {},
   "outputs": [],
   "source": [
    "movies = pd.read_csv(\"tmdb_5000_movies.csv\")\n",
    "credits = pd.read_csv(\"tmdb_5000_credits.csv\")"
   ]
  },
  {
   "cell_type": "markdown",
   "id": "cbd00c78",
   "metadata": {},
   "source": [
    "### Merging both Datasets"
   ]
  },
  {
   "cell_type": "code",
   "execution_count": null,
   "id": "2f068246",
   "metadata": {},
   "outputs": [],
   "source": [
    "movies = movies.merge(credits, on='title')    # Using title column of the dataset to combine both datasets, and assigning the complete dataset to movies"
   ]
  }
 ],
 "metadata": {
  "kernelspec": {
   "display_name": "Python 3",
   "language": "python",
   "name": "python3"
  },
  "language_info": {
   "name": "python",
   "version": "3.11.5"
  }
 },
 "nbformat": 4,
 "nbformat_minor": 5
}
